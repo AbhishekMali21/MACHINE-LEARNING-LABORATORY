{
  "nbformat": 4,
  "nbformat_minor": 0,
  "metadata": {
    "colab": {
      "name": "P3.ipynb",
      "provenance": [],
      "collapsed_sections": []
    },
    "kernelspec": {
      "name": "python3",
      "display_name": "Python 3"
    }
  },
  "cells": [
    {
      "cell_type": "code",
      "metadata": {
        "colab": {
          "base_uri": "https://localhost:8080/",
          "height": 204
        },
        "id": "5PAyJR9czsRi",
        "outputId": "2cc73b45-8a35-4a30-e8c2-ed0033ee7085"
      },
      "source": [
        "import pandas as pd\n",
        "import numpy as np\n",
        "import math\n",
        "\n",
        "df = pd.read_csv('PlayTennis.csv')\n",
        "\n",
        "df.head()"
      ],
      "execution_count": null,
      "outputs": [
        {
          "output_type": "execute_result",
          "data": {
            "text/html": [
              "<div>\n",
              "<style scoped>\n",
              "    .dataframe tbody tr th:only-of-type {\n",
              "        vertical-align: middle;\n",
              "    }\n",
              "\n",
              "    .dataframe tbody tr th {\n",
              "        vertical-align: top;\n",
              "    }\n",
              "\n",
              "    .dataframe thead th {\n",
              "        text-align: right;\n",
              "    }\n",
              "</style>\n",
              "<table border=\"1\" class=\"dataframe\">\n",
              "  <thead>\n",
              "    <tr style=\"text-align: right;\">\n",
              "      <th></th>\n",
              "      <th>Outlook</th>\n",
              "      <th>Temperature</th>\n",
              "      <th>Humidity</th>\n",
              "      <th>Wind</th>\n",
              "      <th>Play Tennis</th>\n",
              "    </tr>\n",
              "  </thead>\n",
              "  <tbody>\n",
              "    <tr>\n",
              "      <th>0</th>\n",
              "      <td>Sunny</td>\n",
              "      <td>Hot</td>\n",
              "      <td>High</td>\n",
              "      <td>Weak</td>\n",
              "      <td>No</td>\n",
              "    </tr>\n",
              "    <tr>\n",
              "      <th>1</th>\n",
              "      <td>Sunny</td>\n",
              "      <td>Hot</td>\n",
              "      <td>High</td>\n",
              "      <td>Strong</td>\n",
              "      <td>No</td>\n",
              "    </tr>\n",
              "    <tr>\n",
              "      <th>2</th>\n",
              "      <td>Overcast</td>\n",
              "      <td>Hot</td>\n",
              "      <td>High</td>\n",
              "      <td>Weak</td>\n",
              "      <td>Yes</td>\n",
              "    </tr>\n",
              "    <tr>\n",
              "      <th>3</th>\n",
              "      <td>Rain</td>\n",
              "      <td>Mild</td>\n",
              "      <td>High</td>\n",
              "      <td>Weak</td>\n",
              "      <td>Yes</td>\n",
              "    </tr>\n",
              "    <tr>\n",
              "      <th>4</th>\n",
              "      <td>Rain</td>\n",
              "      <td>Cool</td>\n",
              "      <td>Normal</td>\n",
              "      <td>Weak</td>\n",
              "      <td>Yes</td>\n",
              "    </tr>\n",
              "  </tbody>\n",
              "</table>\n",
              "</div>"
            ],
            "text/plain": [
              "    Outlook Temperature Humidity    Wind Play Tennis\n",
              "0     Sunny         Hot     High    Weak          No\n",
              "1     Sunny         Hot     High  Strong          No\n",
              "2  Overcast         Hot     High    Weak         Yes\n",
              "3      Rain        Mild     High    Weak         Yes\n",
              "4      Rain        Cool   Normal    Weak         Yes"
            ]
          },
          "metadata": {
            "tags": []
          },
          "execution_count": 2
        }
      ]
    },
    {
      "cell_type": "code",
      "metadata": {
        "id": "5QSR-hpgrPvf"
      },
      "source": [
        "concepts = df.iloc[:,:-1]\n",
        "target = df.iloc[:,-1]"
      ],
      "execution_count": null,
      "outputs": []
    },
    {
      "cell_type": "code",
      "metadata": {
        "id": "2mkN0iBljHAt"
      },
      "source": [
        "class Node:\n",
        "  def __init__(self,attr):\n",
        "    self.attr = attr\n",
        "    self.children = []\n",
        "    self.outcome = \"\"\n",
        "  def __str__(self):\n",
        "    return \"{0} - {1}\\n{2}\\n\".format(self.attr,self.outcome, [c for c in self.children] if len(self.children) > 0 else \"\")\n",
        "\n",
        "  def __repr__(self):\n",
        "    return self.__str__()\n"
      ],
      "execution_count": null,
      "outputs": []
    },
    {
      "cell_type": "code",
      "metadata": {
        "id": "rchbSI39k9JP"
      },
      "source": [
        "def outcome_count(d):\n",
        "  p = 0\n",
        "  n = 0\n",
        "  for i,r in d.iterrows():\n",
        "    if target[i] == 'Yes':\n",
        "      p = p+1\n",
        "    else:\n",
        "      n = n+1\n",
        "  return p,n\n",
        "\n",
        "def outcome(d):\n",
        "  p = 0\n",
        "  n = 0\n",
        "  for i,r in d.iterrows():\n",
        "    if target[i] == 'Yes':\n",
        "      p = p+1\n",
        "    else:\n",
        "      n = n+1\n",
        "  if p == 0:\n",
        "    return 'No'\n",
        "  elif n == 0:\n",
        "    return 'Yes'\n",
        "\n",
        "def entropy(d,l,outcome=None):\n",
        "  filtered = d[d[l] == outcome] if outcome else d\n",
        "  p,n = outcome_count(filtered)\n",
        "  pr = p/(p+n)\n",
        "  nr = n/(p+n)\n",
        "  try:\n",
        "    return -(pr*math.log(pr,2))-(nr*math.log(nr,2))\n",
        "  except:\n",
        "    return 0\n",
        "\n",
        "def gain(d,l):\n",
        "  G = entropy(d,l)\n",
        "  for li in d[l].unique():\n",
        "    G = G - (d[d[l] == li].shape[0]/d[l].shape[0])*entropy(d,l,li)\n",
        "  return G"
      ],
      "execution_count": null,
      "outputs": []
    },
    {
      "cell_type": "code",
      "metadata": {
        "id": "jvEWCgVUjyFm"
      },
      "source": [
        "def max_gain(d):\n",
        "  gains = { i:gain(d,i) for i,s in d.iteritems() }\n",
        "  key = \"\"\n",
        "\n",
        "  for k,v in gains.items():\n",
        "    if v == max(gains.values()):\n",
        "      key = k\n",
        "\n",
        "  return key"
      ],
      "execution_count": null,
      "outputs": []
    },
    {
      "cell_type": "code",
      "metadata": {
        "colab": {
          "base_uri": "https://localhost:8080/"
        },
        "id": "mENGA8v8BGI4",
        "outputId": "fd3e5cfa-1026-457f-a4f9-124bff4f71bc"
      },
      "source": [
        "def ID3(d,target=None):\n",
        "  tree = Node(target or \"\")\n",
        "  out = outcome(d)\n",
        "  if out:\n",
        "    tree.outcome = out\n",
        "    return tree\n",
        "  elif d.shape[0] <= 1 or d.shape[1] <= 1:\n",
        "    tree.outcome = max(outcome_count(d))\n",
        "    return tree\n",
        "  else:\n",
        "    tree = Node(max_gain(d))\n",
        "    for v in d[tree.attr].unique():\n",
        "      sub_df = d[d[tree.attr] == v].drop(tree.attr,axis=1)\n",
        "      tree.children.append(ID3(sub_df,v))\n",
        "    return tree\n",
        "\n",
        "ID3(concepts)"
      ],
      "execution_count": null,
      "outputs": [
        {
          "output_type": "execute_result",
          "data": {
            "text/plain": [
              "Outlook - \n",
              "[Humidity - \n",
              "[High - No\n",
              "\n",
              ", Normal - Yes\n",
              "\n",
              "]\n",
              ", Overcast - Yes\n",
              "\n",
              ", Wind - \n",
              "[Weak - Yes\n",
              "\n",
              ", Strong - No\n",
              "\n",
              "]\n",
              "]"
            ]
          },
          "metadata": {
            "tags": []
          },
          "execution_count": 11
        }
      ]
    },
    {
      "cell_type": "code",
      "metadata": {
        "id": "pyPNcfzTptEb"
      },
      "source": [
        ""
      ],
      "execution_count": null,
      "outputs": []
    }
  ]
}