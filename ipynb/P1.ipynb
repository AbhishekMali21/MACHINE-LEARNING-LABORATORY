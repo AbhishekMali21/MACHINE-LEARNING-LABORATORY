{
  "nbformat": 4,
  "nbformat_minor": 0,
  "metadata": {
    "colab": {
      "name": "P1.ipynb",
      "provenance": []
    },
    "kernelspec": {
      "name": "python3",
      "display_name": "Python 3"
    }
  },
  "cells": [
    {
      "cell_type": "code",
      "metadata": {
        "colab": {
          "base_uri": "https://localhost:8080/",
          "height": 204
        },
        "id": "fjfG9bI7o471",
        "outputId": "fa4106e0-2376-46cb-e3c4-3a04d37b741a"
      },
      "source": [
        "import pandas as pd\n",
        "\n",
        "df = pd.read_csv('EnjoySport.csv',index_col='Example')\n",
        "\n",
        "df.head()"
      ],
      "execution_count": null,
      "outputs": [
        {
          "output_type": "execute_result",
          "data": {
            "text/html": [
              "<div>\n",
              "<style scoped>\n",
              "    .dataframe tbody tr th:only-of-type {\n",
              "        vertical-align: middle;\n",
              "    }\n",
              "\n",
              "    .dataframe tbody tr th {\n",
              "        vertical-align: top;\n",
              "    }\n",
              "\n",
              "    .dataframe thead th {\n",
              "        text-align: right;\n",
              "    }\n",
              "</style>\n",
              "<table border=\"1\" class=\"dataframe\">\n",
              "  <thead>\n",
              "    <tr style=\"text-align: right;\">\n",
              "      <th></th>\n",
              "      <th>Sky</th>\n",
              "      <th>AirTemp</th>\n",
              "      <th>Humidity</th>\n",
              "      <th>Wind</th>\n",
              "      <th>Water</th>\n",
              "      <th>Forecast</th>\n",
              "      <th>EnjoySport</th>\n",
              "    </tr>\n",
              "    <tr>\n",
              "      <th>Example</th>\n",
              "      <th></th>\n",
              "      <th></th>\n",
              "      <th></th>\n",
              "      <th></th>\n",
              "      <th></th>\n",
              "      <th></th>\n",
              "      <th></th>\n",
              "    </tr>\n",
              "  </thead>\n",
              "  <tbody>\n",
              "    <tr>\n",
              "      <th>1</th>\n",
              "      <td>Sunny</td>\n",
              "      <td>Warm</td>\n",
              "      <td>Normal</td>\n",
              "      <td>Strong</td>\n",
              "      <td>Warm</td>\n",
              "      <td>Same</td>\n",
              "      <td>Yes</td>\n",
              "    </tr>\n",
              "    <tr>\n",
              "      <th>2</th>\n",
              "      <td>Sunny</td>\n",
              "      <td>Warm</td>\n",
              "      <td>High</td>\n",
              "      <td>Strong</td>\n",
              "      <td>Warm</td>\n",
              "      <td>Same</td>\n",
              "      <td>Yes</td>\n",
              "    </tr>\n",
              "    <tr>\n",
              "      <th>3</th>\n",
              "      <td>Rainy</td>\n",
              "      <td>Cold</td>\n",
              "      <td>High</td>\n",
              "      <td>Strong</td>\n",
              "      <td>Warm</td>\n",
              "      <td>Change</td>\n",
              "      <td>No</td>\n",
              "    </tr>\n",
              "    <tr>\n",
              "      <th>4</th>\n",
              "      <td>Sunny</td>\n",
              "      <td>Warm</td>\n",
              "      <td>High</td>\n",
              "      <td>Strong</td>\n",
              "      <td>Cool</td>\n",
              "      <td>Change</td>\n",
              "      <td>Yes</td>\n",
              "    </tr>\n",
              "  </tbody>\n",
              "</table>\n",
              "</div>"
            ],
            "text/plain": [
              "           Sky AirTemp Humidity    Wind Water Forecast EnjoySport\n",
              "Example                                                          \n",
              "1        Sunny    Warm   Normal  Strong  Warm     Same        Yes\n",
              "2        Sunny    Warm     High  Strong  Warm     Same        Yes\n",
              "3        Rainy    Cold     High  Strong  Warm   Change         No\n",
              "4        Sunny    Warm     High  Strong  Cool   Change        Yes"
            ]
          },
          "metadata": {
            "tags": []
          },
          "execution_count": 51
        }
      ]
    },
    {
      "cell_type": "code",
      "metadata": {
        "colab": {
          "base_uri": "https://localhost:8080/",
          "height": 173
        },
        "id": "rgl4iF3c6ljn",
        "outputId": "004d5839-89fb-4c83-8bfa-c81e8f3fbc91"
      },
      "source": [
        "pos = df[df.EnjoySport == \"Yes\"].drop(['EnjoySport'],axis=1)\n",
        "\n",
        "pos.head()"
      ],
      "execution_count": null,
      "outputs": [
        {
          "output_type": "execute_result",
          "data": {
            "text/html": [
              "<div>\n",
              "<style scoped>\n",
              "    .dataframe tbody tr th:only-of-type {\n",
              "        vertical-align: middle;\n",
              "    }\n",
              "\n",
              "    .dataframe tbody tr th {\n",
              "        vertical-align: top;\n",
              "    }\n",
              "\n",
              "    .dataframe thead th {\n",
              "        text-align: right;\n",
              "    }\n",
              "</style>\n",
              "<table border=\"1\" class=\"dataframe\">\n",
              "  <thead>\n",
              "    <tr style=\"text-align: right;\">\n",
              "      <th></th>\n",
              "      <th>Sky</th>\n",
              "      <th>AirTemp</th>\n",
              "      <th>Humidity</th>\n",
              "      <th>Wind</th>\n",
              "      <th>Water</th>\n",
              "      <th>Forecast</th>\n",
              "    </tr>\n",
              "    <tr>\n",
              "      <th>Example</th>\n",
              "      <th></th>\n",
              "      <th></th>\n",
              "      <th></th>\n",
              "      <th></th>\n",
              "      <th></th>\n",
              "      <th></th>\n",
              "    </tr>\n",
              "  </thead>\n",
              "  <tbody>\n",
              "    <tr>\n",
              "      <th>1</th>\n",
              "      <td>Sunny</td>\n",
              "      <td>Warm</td>\n",
              "      <td>Normal</td>\n",
              "      <td>Strong</td>\n",
              "      <td>Warm</td>\n",
              "      <td>Same</td>\n",
              "    </tr>\n",
              "    <tr>\n",
              "      <th>2</th>\n",
              "      <td>Sunny</td>\n",
              "      <td>Warm</td>\n",
              "      <td>High</td>\n",
              "      <td>Strong</td>\n",
              "      <td>Warm</td>\n",
              "      <td>Same</td>\n",
              "    </tr>\n",
              "    <tr>\n",
              "      <th>4</th>\n",
              "      <td>Sunny</td>\n",
              "      <td>Warm</td>\n",
              "      <td>High</td>\n",
              "      <td>Strong</td>\n",
              "      <td>Cool</td>\n",
              "      <td>Change</td>\n",
              "    </tr>\n",
              "  </tbody>\n",
              "</table>\n",
              "</div>"
            ],
            "text/plain": [
              "           Sky AirTemp Humidity    Wind Water Forecast\n",
              "Example                                               \n",
              "1        Sunny    Warm   Normal  Strong  Warm     Same\n",
              "2        Sunny    Warm     High  Strong  Warm     Same\n",
              "4        Sunny    Warm     High  Strong  Cool   Change"
            ]
          },
          "metadata": {
            "tags": []
          },
          "execution_count": 52
        }
      ]
    },
    {
      "cell_type": "code",
      "metadata": {
        "colab": {
          "base_uri": "https://localhost:8080/"
        },
        "id": "cKZimVoIqebn",
        "outputId": "e23d65a4-7e49-40c1-8a55-bba7ce99e10b"
      },
      "source": [
        "h = ['%','%','%','%','%','%']\n",
        "print(h)\n",
        "\n",
        "h = pos.iloc[0].tolist()\n",
        "print(h)\n",
        "\n",
        "for i,d in pos.iloc[1:].iterrows():\n",
        "  for j in range(len(d)):\n",
        "    if h[j] != d[j]:\n",
        "      h[j] = '?'\n",
        "  print(h)"
      ],
      "execution_count": null,
      "outputs": [
        {
          "output_type": "stream",
          "text": [
            "['%', '%', '%', '%', '%', '%']\n",
            "['Sunny', 'Warm', 'Normal', 'Strong', 'Warm', 'Same']\n",
            "['Sunny', 'Warm', '?', 'Strong', 'Warm', 'Same']\n",
            "['Sunny', 'Warm', '?', 'Strong', '?', '?']\n"
          ],
          "name": "stdout"
        }
      ]
    },
    {
      "cell_type": "code",
      "metadata": {
        "id": "Sdi9__kLvAxR"
      },
      "source": [
        ""
      ],
      "execution_count": null,
      "outputs": []
    }
  ]
}