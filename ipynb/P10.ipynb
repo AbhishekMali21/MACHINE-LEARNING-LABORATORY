{
  "nbformat": 4,
  "nbformat_minor": 0,
  "metadata": {
    "colab": {
      "name": "P10.ipynb",
      "provenance": []
    },
    "kernelspec": {
      "name": "python3",
      "display_name": "Python 3"
    }
  },
  "cells": [
    {
      "cell_type": "code",
      "metadata": {
        "id": "9g9vNp3IpjpW"
      },
      "source": [
        "import matplotlib.pyplot as plt \n",
        "import pandas as pd\n",
        "import numpy as np"
      ],
      "execution_count": 1,
      "outputs": []
    },
    {
      "cell_type": "code",
      "metadata": {
        "id": "MLx_yo6-qfDP"
      },
      "source": [
        "def kernel(point,x):\n",
        "  k = 1\n",
        "  weights = np.mat(np.eye((m))) \n",
        "  for j in range(m):\n",
        "    diff = point - X[j]\n",
        "    weights[j,j] = np.exp(diff*diff.T/( -2.0*k** 2)) \n",
        "  return weights\n",
        "\n",
        "def localWeight(point, x,Y) :\n",
        "  wei = kernel(point,x )\n",
        "  W = (X.T*(wei*X)).I*(X.T*(wei*Y.T)) \n",
        "  return W\n",
        "\n",
        "def localWeightRegression(x,Y) : \n",
        "  ypred = np.zeros(m)\n",
        "  for i in range(m):\n",
        "    ypred[i] = x[i] *localWeight(x[i],x,Y) \n",
        "  return ypred"
      ],
      "execution_count": 51,
      "outputs": []
    },
    {
      "cell_type": "code",
      "metadata": {
        "colab": {
          "base_uri": "https://localhost:8080/",
          "height": 279
        },
        "id": "1zGWclMbrS3x",
        "outputId": "ab06dc85-ee34-417b-92a9-32a7d61ba5ed"
      },
      "source": [
        "data = pd.read_csv('tips.csv') \n",
        "\n",
        "bill = np.array(data.total_bill) \n",
        "tip = np.array(data.tip)\n",
        "\n",
        "m = len(bill)\n",
        "\n",
        "X = np.mat([np.ones(m),bill]).T\n",
        "y = np.mat(tip)\n",
        "\n",
        "ypred = localWeightRegression(X,y) \n",
        "\n",
        "plt.scatter(bill,tip) \n",
        "plt.plot(np.sort(bill) ,ypred[[b for b in np.argsort(bill)]], color='red')\n",
        "\n",
        "plt.xlabel('Total bill')\n",
        "plt.ylabel('Tip')\n",
        "plt.show()"
      ],
      "execution_count": 84,
      "outputs": [
        {
          "output_type": "display_data",
          "data": {
            "image/png": "[encoded data removed]",
            "text/plain": [
              "<Figure size 432x288 with 1 Axes>"
            ]
          },
          "metadata": {
            "tags": [],
            "needs_background": "light"
          }
        }
      ]
    },
    {
      "cell_type": "code",
      "metadata": {
        "id": "sZIN4AKGsg-8"
      },
      "source": [
        ""
      ],
      "execution_count": null,
      "outputs": []
    }
  ]
}