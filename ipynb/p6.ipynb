{
  "nbformat": 4,
  "nbformat_minor": 0,
  "metadata": {
    "kernelspec": {
      "display_name": "Python 3",
      "language": "python",
      "name": "python3"
    },
    "language_info": {
      "codemirror_mode": {
        "name": "ipython",
        "version": 3
      },
      "file_extension": ".py",
      "mimetype": "text/x-python",
      "name": "python",
      "nbconvert_exporter": "python",
      "pygments_lexer": "ipython3",
      "version": "3.6.5"
    },
    "colab": {
      "name": "p6.ipynb",
      "provenance": []
    }
  },
  "cells": [
    {
      "cell_type": "code",
      "metadata": {
        "id": "8sAU_S0I1pja"
      },
      "source": [
        "from sklearn.datasets import fetch_20newsgroups\n",
        "\n",
        "categories = ['alt.atheism','comp.graphics', 'sci.med']\n",
        "train = fetch_20newsgroups(subset='train', categories=categories, shuffle=True)\n",
        "test = fetch_20newsgroups(subset='test', categories=categories, shuffle=True)"
      ],
      "execution_count": 22,
      "outputs": []
    },
    {
      "cell_type": "code",
      "metadata": {
        "id": "Wfe5ovjD1pjc"
      },
      "source": [
        "from sklearn.feature_extraction.text import CountVectorizer, TfidfTransformer\n",
        "\n",
        "cv, tfidf = CountVectorizer(), TfidfTransformer()\n",
        "\n",
        "X_train_tfidf = tfidf.fit_transform(cv.fit_transform(train.data))\n",
        "y_train = train.target\n",
        "\n",
        "X_test_tfidf = tfidf.transform(cv.transform(test.data))\n",
        "y_test = test.target"
      ],
      "execution_count": 26,
      "outputs": []
    },
    {
      "cell_type": "code",
      "metadata": {
        "id": "SsJbqXnR1pjd"
      },
      "source": [
        "from sklearn.naive_bayes import MultinomialNB\n",
        "from sklearn.metrics import classification_report\n",
        "\n",
        "mnb = MultinomialNB()\n",
        "mnb.fit(X_train_tfidf, y_train)\n",
        "\n",
        "y_pred = mnb.predict(X_test_tfidf)"
      ],
      "execution_count": 27,
      "outputs": []
    },
    {
      "cell_type": "code",
      "metadata": {
        "colab": {
          "base_uri": "https://localhost:8080/"
        },
        "id": "ffzNmVZu1pje",
        "outputId": "7a8376a4-289d-4c23-e1a0-29acf1f4d2d2"
      },
      "source": [
        "print(classification_report(y_test, y_pred, target_names=test.target_names))"
      ],
      "execution_count": 28,
      "outputs": [
        {
          "output_type": "stream",
          "text": [
            "               precision    recall  f1-score   support\n",
            "\n",
            "  alt.atheism       0.95      0.94      0.94       319\n",
            "comp.graphics       0.96      0.92      0.94       389\n",
            "      sci.med       0.91      0.95      0.93       396\n",
            "\n",
            "     accuracy                           0.94      1104\n",
            "    macro avg       0.94      0.94      0.94      1104\n",
            " weighted avg       0.94      0.94      0.94      1104\n",
            "\n"
          ],
          "name": "stdout"
        }
      ]
    },
    {
      "cell_type": "code",
      "metadata": {
        "id": "AYrSQ1jN7H1d"
      },
      "source": [
        ""
      ],
      "execution_count": null,
      "outputs": []
    }
  ]
}