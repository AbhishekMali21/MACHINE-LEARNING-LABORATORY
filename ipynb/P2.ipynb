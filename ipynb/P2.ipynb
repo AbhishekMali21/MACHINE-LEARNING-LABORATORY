{
  "nbformat": 4,
  "nbformat_minor": 0,
  "metadata": {
    "colab": {
      "name": "P2.ipynb",
      "provenance": []
    },
    "kernelspec": {
      "name": "python3",
      "display_name": "Python 3"
    }
  },
  "cells": [
    {
      "cell_type": "code",
      "metadata": {
        "id": "BX4onq55l8KK",
        "colab": {
          "base_uri": "https://localhost:8080/",
          "height": 204
        },
        "outputId": "1b879cc6-dfe4-4990-c35e-577b4ddb9b17"
      },
      "source": [
        "import pandas as pd\n",
        "import numpy as np\n",
        "\n",
        "df = pd.read_csv('EnjoySport.csv',index_col=0)\n",
        "\n",
        "df.head()"
      ],
      "execution_count": null,
      "outputs": [
        {
          "output_type": "execute_result",
          "data": {
            "text/html": [
              "<div>\n",
              "<style scoped>\n",
              "    .dataframe tbody tr th:only-of-type {\n",
              "        vertical-align: middle;\n",
              "    }\n",
              "\n",
              "    .dataframe tbody tr th {\n",
              "        vertical-align: top;\n",
              "    }\n",
              "\n",
              "    .dataframe thead th {\n",
              "        text-align: right;\n",
              "    }\n",
              "</style>\n",
              "<table border=\"1\" class=\"dataframe\">\n",
              "  <thead>\n",
              "    <tr style=\"text-align: right;\">\n",
              "      <th></th>\n",
              "      <th>Sky</th>\n",
              "      <th>AirTemp</th>\n",
              "      <th>Humidity</th>\n",
              "      <th>Wind</th>\n",
              "      <th>Water</th>\n",
              "      <th>Forecast</th>\n",
              "      <th>EnjoySport</th>\n",
              "    </tr>\n",
              "    <tr>\n",
              "      <th>Example</th>\n",
              "      <th></th>\n",
              "      <th></th>\n",
              "      <th></th>\n",
              "      <th></th>\n",
              "      <th></th>\n",
              "      <th></th>\n",
              "      <th></th>\n",
              "    </tr>\n",
              "  </thead>\n",
              "  <tbody>\n",
              "    <tr>\n",
              "      <th>1</th>\n",
              "      <td>Sunny</td>\n",
              "      <td>Warm</td>\n",
              "      <td>Normal</td>\n",
              "      <td>Strong</td>\n",
              "      <td>Warm</td>\n",
              "      <td>Same</td>\n",
              "      <td>Yes</td>\n",
              "    </tr>\n",
              "    <tr>\n",
              "      <th>2</th>\n",
              "      <td>Sunny</td>\n",
              "      <td>Warm</td>\n",
              "      <td>High</td>\n",
              "      <td>Strong</td>\n",
              "      <td>Warm</td>\n",
              "      <td>Same</td>\n",
              "      <td>Yes</td>\n",
              "    </tr>\n",
              "    <tr>\n",
              "      <th>3</th>\n",
              "      <td>Rainy</td>\n",
              "      <td>Cold</td>\n",
              "      <td>High</td>\n",
              "      <td>Strong</td>\n",
              "      <td>Warm</td>\n",
              "      <td>Change</td>\n",
              "      <td>No</td>\n",
              "    </tr>\n",
              "    <tr>\n",
              "      <th>4</th>\n",
              "      <td>Sunny</td>\n",
              "      <td>Warm</td>\n",
              "      <td>High</td>\n",
              "      <td>Strong</td>\n",
              "      <td>Cool</td>\n",
              "      <td>Change</td>\n",
              "      <td>Yes</td>\n",
              "    </tr>\n",
              "  </tbody>\n",
              "</table>\n",
              "</div>"
            ],
            "text/plain": [
              "           Sky AirTemp Humidity    Wind Water Forecast EnjoySport\n",
              "Example                                                          \n",
              "1        Sunny    Warm   Normal  Strong  Warm     Same        Yes\n",
              "2        Sunny    Warm     High  Strong  Warm     Same        Yes\n",
              "3        Rainy    Cold     High  Strong  Warm   Change         No\n",
              "4        Sunny    Warm     High  Strong  Cool   Change        Yes"
            ]
          },
          "metadata": {
            "tags": []
          },
          "execution_count": 1
        }
      ]
    },
    {
      "cell_type": "code",
      "metadata": {
        "id": "SjCwCJucoUaW"
      },
      "source": [
        "def is_consistent(H,D):\n",
        "  for i,d in enumerate(D):\n",
        "    if H[i] != d and H[i] != '?':\n",
        "      return False\n",
        "  return True\n",
        "\n",
        "\n",
        "def generalize_s(S,H):\n",
        "  if (S == np.array(['%','%','%','%','%','%'])).all():\n",
        "    return H\n",
        "  for i,h in enumerate(H):\n",
        "    if S[i] != h:\n",
        "      S[i] = '?'\n",
        "  return S\n",
        "\n",
        "def specialize_g(G,S,H):\n",
        "  for i,h in enumerate(H):\n",
        "    if S[i] != h:\n",
        "      G[i][i] = S[i]\n",
        "  return G"
      ],
      "execution_count": null,
      "outputs": []
    },
    {
      "cell_type": "code",
      "metadata": {
        "colab": {
          "base_uri": "https://localhost:8080/"
        },
        "id": "S02QHOiMoKYI",
        "outputId": "4f042d3c-ae4b-4b64-f3c3-7f5abc70f5dd"
      },
      "source": [
        "concepts = np.array(df.iloc[:,:-1]).copy()\n",
        "target = np.array(df.iloc[:,-1]).copy()\n",
        "\n",
        "S = ['%','%','%','%','%','%']\n",
        "G = [['?' for i in range(len(concepts[0]))] for j in range(len(concepts[0]))]\n",
        "\n",
        "for i,h in enumerate(concepts):\n",
        "  if target[i] == 'Yes':\n",
        "    if not is_consistent(h,S):\n",
        "      S = generalize_s(S,h)\n",
        "      inconsistent_g = [i for i,s in enumerate(S) if s == '?']\n",
        "      for g in inconsistent_g:\n",
        "        G[g][g] = '?'\n",
        "      # print(S)\n",
        "\n",
        "  else:\n",
        "    for j,g in enumerate(G):\n",
        "      if is_consistent(g,h):\n",
        "        G = specialize_g(G,S,h)\n",
        "        # print(G)\n",
        "\n",
        "filter_g = [i for i,g in enumerate(G) if g == ['?', '?', '?', '?', '?', '?']]\n",
        "for i in filter_g:\n",
        "  G.remove(['?', '?', '?', '?', '?', '?'])\n",
        "\n",
        "print(S)\n",
        "print(G)"
      ],
      "execution_count": null,
      "outputs": [
        {
          "output_type": "stream",
          "text": [
            "['Sunny' 'Warm' '?' 'Strong' '?' '?']\n",
            "[['Sunny', '?', '?', '?', '?', '?'], ['?', 'Warm', '?', '?', '?', '?']]\n"
          ],
          "name": "stdout"
        }
      ]
    },
    {
      "cell_type": "code",
      "metadata": {
        "id": "5i2rPE42o72-"
      },
      "source": [
        ""
      ],
      "execution_count": null,
      "outputs": []
    }
  ]
}